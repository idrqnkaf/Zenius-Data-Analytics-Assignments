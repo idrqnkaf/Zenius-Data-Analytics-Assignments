{
  "nbformat": 4,
  "nbformat_minor": 0,
  "metadata": {
    "colab": {
      "provenance": []
    },
    "kernelspec": {
      "name": "python3",
      "display_name": "Python 3"
    },
    "language_info": {
      "name": "python"
    }
  },
  "cells": [
    {
      "cell_type": "code",
      "execution_count": 1,
      "metadata": {
        "id": "41k5d5FHq5hL"
      },
      "outputs": [],
      "source": [
        "import pandas as pd\n",
        "import matplotlib.pyplot as plt\n",
        "import seaborn as sns"
      ]
    },
    {
      "cell_type": "code",
      "source": [
        "url = 'https://raw.githubusercontent.com/dataenergy/Exploratory-data-analysis-of-climate-change-and-natural-disasters/master/datasets/number-of-natural-disaster-events.csv'\n",
        "data = pd.read_csv(url) #untuk membaca data dari file CSV (url)"
      ],
      "metadata": {
        "id": "CA4nS4SLsrXL"
      },
      "execution_count": 2,
      "outputs": []
    },
    {
      "cell_type": "code",
      "source": [
        "df = pd.DataFrame(data) #untuk membuat objek DataFrame, yang merupakan struktur data tabular dengan baris dan kolom."
      ],
      "metadata": {
        "id": "EdGSUj0hwC1a"
      },
      "execution_count": 3,
      "outputs": []
    },
    {
      "cell_type": "code",
      "source": [
        "df"
      ],
      "metadata": {
        "id": "QjZ_IswLIKTt"
      },
      "execution_count": null,
      "outputs": []
    },
    {
      "cell_type": "code",
      "source": [
        "numerical_vars = ['Year', 'Number of reported natural disasters (reported disasters)']\n",
        "categorical_vars = ['Entity', 'Code']"
      ],
      "metadata": {
        "id": "VbEPz1_nI-dO"
      },
      "execution_count": 5,
      "outputs": []
    },
    {
      "cell_type": "code",
      "source": [
        "# Menghapus entitas \"All natural disasters\" dari DataFrame\n",
        "df = df[df['Entity'] != 'All natural disasters']\n",
        "# Pembuatan Barplot Horizontal\n",
        "plt.figure(figsize=(10, 5))\n",
        "sns.barplot(x='Number of reported natural disasters (reported disasters)', y='Entity', data=df)\n",
        "plt.title('Barplot Horizontal')\n",
        "plt.xlabel('Number of reported disasters\\n From 1900 to 2018')\n",
        "plt.ylabel('Entity')\n",
        "plt.show()"
      ],
      "metadata": {
        "id": "vSM91LBKLTA2"
      },
      "execution_count": null,
      "outputs": []
    },
    {
      "cell_type": "code",
      "source": [
        "# Pembuatan Barplot Vertikal\n",
        "plt.figure(figsize=(5, 10))\n",
        "sns.barplot(x='Entity', y='Number of reported natural disasters (reported disasters)', data=df)\n",
        "plt.title('Barplot Vertical')\n",
        "plt.xlabel('Entity')\n",
        "plt.ylabel('Number of reported disasters\\n From 1900 to 2018')\n",
        "plt.xticks(rotation=90)\n",
        "plt.show()"
      ],
      "metadata": {
        "id": "GkrAjBadLec7"
      },
      "execution_count": null,
      "outputs": []
    },
    {
      "cell_type": "code",
      "source": [
        "# Pembuatan Distplot\n",
        "plt.figure(figsize=(8, 5))\n",
        "sns.distplot(df['Year'], bins=10, kde=False) #kde false untuk mehilangkan garis pada histogram\n",
        "plt.title('Distplot')\n",
        "plt.xlabel('Year')\n",
        "plt.ylabel('Frequency')\n",
        "plt.show()\n"
      ],
      "metadata": {
        "id": "8hihxW3pL7ps"
      },
      "execution_count": null,
      "outputs": []
    },
    {
      "cell_type": "code",
      "source": [
        "# Pembuatan Boxplot\n",
        "plt.figure(figsize=(8, 5))\n",
        "sns.boxplot(x='Entity', y='Number of reported natural disasters (reported disasters)', data=df)\n",
        "plt.title('Boxplot')\n",
        "plt.xlabel('Entity')\n",
        "plt.ylabel('Number of reported disasters\\n From 1900 to 2018')\n",
        "plt.xticks(rotation=90)\n",
        "plt.show()"
      ],
      "metadata": {
        "id": "6oFxeUFgM2CV"
      },
      "execution_count": null,
      "outputs": []
    },
    {
      "cell_type": "code",
      "source": [
        "# Pembuatan Scatterplot\n",
        "plt.figure(figsize=(8, 5))\n",
        "sns.scatterplot(x='Year', y='Number of reported natural disasters (reported disasters)', data=df)\n",
        "plt.title('Scatterplot')\n",
        "plt.xlabel('Year')\n",
        "plt.ylabel('Number of reported disasters')\n",
        "plt.show()"
      ],
      "metadata": {
        "id": "ypDsLaDdNRVb"
      },
      "execution_count": null,
      "outputs": []
    },
    {
      "cell_type": "code",
      "source": [
        "# Menggabungkan entitas yang sama dan menghitung rata-rata/persentase\n",
        "df_grouped = df.groupby('Entity')['Number of reported natural disasters (reported disasters)'].mean().reset_index()\n",
        "# Pembuatan Pie Chart\n",
        "plt.figure(figsize=(6, 6))\n",
        "plt.pie(df_grouped['Number of reported natural disasters (reported disasters)'], labels=df_grouped['Entity'],\n",
        "        autopct='%1.1f%%', startangle=140,\n",
        "        shadow=True,\n",
        "        wedgeprops={'edgecolor': 'black'})\n",
        "plt.title('Pie Chart - All natural disasters')\n",
        "plt.axis('equal')\n",
        "plt.legend(loc='lower right', bbox_to_anchor=(1, 0, 0.5, 1))\n",
        "plt.show()"
      ],
      "metadata": {
        "id": "3MnWfEd5NgcM"
      },
      "execution_count": null,
      "outputs": []
    }
  ]
}
